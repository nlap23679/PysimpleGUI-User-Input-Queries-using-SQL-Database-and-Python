{
 "cells": [
  {
   "cell_type": "code",
   "execution_count": 1,
   "metadata": {},
   "outputs": [
    {
     "name": "stdout",
     "output_type": "stream",
     "text": [
      "Requirement already satisfied: mysql-connector-python in c:\\users\\n l aditya patel\\anaconda3\\lib\\site-packages (8.0.23)\n",
      "Requirement already satisfied: protobuf>=3.0.0 in c:\\users\\n l aditya patel\\anaconda3\\lib\\site-packages (from mysql-connector-python) (3.15.5)\n",
      "Requirement already satisfied: six>=1.9 in c:\\users\\n l aditya patel\\anaconda3\\lib\\site-packages (from protobuf>=3.0.0->mysql-connector-python) (1.15.0)\n"
     ]
    }
   ],
   "source": [
    "!pip install mysql-connector-python\n",
    "from mysql import connector\n",
    "from getpass import getpass\n",
    "import pandas as pd\n",
    "import PySimpleGUI as sg"
   ]
  },
  {
   "cell_type": "code",
   "execution_count": 2,
   "metadata": {},
   "outputs": [
    {
     "name": "stdout",
     "output_type": "stream",
     "text": [
      "Mysql Connection:  <mysql.connector.connection_cext.CMySQLConnection object at 0x000001AED269B9A0>\n"
     ]
    }
   ],
   "source": [
    "mysql_con = connector.connect(host=\"localhost\", user = \"root\", password = \"2002020\")\n",
    "print(\"Mysql Connection: \", mysql_con)"
   ]
  },
  {
   "cell_type": "code",
   "execution_count": 3,
   "metadata": {},
   "outputs": [],
   "source": [
    "def query_sakila(query):\n",
    "    db = \"use sakila;\"\n",
    "    with connector.connect(\n",
    "        host = \"localhost\", \n",
    "        user = \"root\", \n",
    "        password = \"2002020\") as mysqlcon:\n",
    "        print(mysqlcon)\n",
    "        cur = mysqlcon.cursor()\n",
    "        print(cur)\n",
    "        cur.execute(db)\n",
    "        cur.execute(query)\n",
    "        df1 = pd.DataFrame(cur.fetchall())\n",
    "        print(df1)  "
   ]
  },
  {
   "cell_type": "code",
   "execution_count": 4,
   "metadata": {},
   "outputs": [],
   "source": [
    "def user_query():\n",
    "    layout = [ \n",
    "    [sg.Text('Enter the name of the Database and the Query')], \n",
    "    [sg.Text('Database', size =(15, 1)), sg.InputText()], \n",
    "    [sg.Text('Query', size =(15, 1)), sg.InputText()], \n",
    "    [sg.Submit(), sg.Cancel()]] \n",
    "  \n",
    "    window = sg.Window('User Input MYSQL Query', layout) \n",
    "    event, values = window.read() \n",
    "    window.close() \n",
    "    \n",
    "  \n",
    "    db = \"use\" + \" \" + values[0] + \";\"\n",
    "    query = values[1] + \";\"    \n",
    "    with connector.connect(\n",
    "        host = \"localhost\", \n",
    "        user = \"root\", \n",
    "        password = \"2002020\") as mysqlcon:\n",
    "        print(mysqlcon)\n",
    "        cur = mysqlcon.cursor()\n",
    "        print(cur)\n",
    "        cur.execute(db)\n",
    "        cur.execute(query)\n",
    "        df1 = pd.DataFrame(cur.fetchall())\n",
    "        print(df1)"
   ]
  },
  {
   "cell_type": "markdown",
   "metadata": {},
   "source": [
    "## Sakila Query Function"
   ]
  },
  {
   "cell_type": "code",
   "execution_count": 5,
   "metadata": {},
   "outputs": [],
   "source": [
    "def sakila_query():  \n",
    "    \n",
    "    sg.theme(\"LightGreen2\")\n",
    "    title=\"Queries from Sakila\"\n",
    "    \n",
    "    layout=[[sg.Text(\"Names of all English Movies\", size=(30,2)), \n",
    "                sg.Button(\"Query\", key=\"sakila1\",size=(10,2)), \n",
    "                sg.Text(\"Display the First name and Last name of all actors\", size=(30,2)), \n",
    "                sg.Button(\"Query\", key=\"sakila2\",size=(10,2))], \n",
    "    [sg.Text(\"Display Each Film and the number of actors in that film\", size=(30,2)), \n",
    "                 sg.Button(\"Query\", key=\"sakila3\",size=(10,2)), \n",
    "                 sg.Text(\"Find all the actors whose last names contains the word 'Gen'\", size=(30,2)), \n",
    "                 sg.Button(\"Query\", key=\"sakila4\",size=(10,2))],\n",
    "    [sg.Text(\"List the names of actors, and how many actors have that name\", size=(30,2)), \n",
    "                 sg.Button(\"Query\", key=\"sakila5\",size=(10,2)), \n",
    "                 sg.Text(\"Display the first and the last names in a single column; name the column: 'Actor Name'\", size=(30,2)), \n",
    "                 sg.Button(\"Query\", key=\"sakila6\",size=(10,2))]]\n",
    "\n",
    "    window=sg.Window(title,layout)\n",
    "    \n",
    "    while True:\n",
    "        event,value=window.read()\n",
    "                \n",
    "        if event == \"sakila1\":\n",
    "            query = \"select film.title from film inner join language where film.language_id = language.language_id and language.name = 'English';\"\n",
    "            query_sakila(query)\n",
    "        \n",
    "        if event == \"sakila2\":\n",
    "            query = \"select actor.first_name, actor.last_name from actor;\"\n",
    "            query_sakila(query)\n",
    "        \n",
    "        if event == \"sakila3\":\n",
    "            query = \"select film.title, count(film_actor.actor_id) from film inner join film_actor on film.film_id = film_actor.film_id group by film.title;\"\n",
    "            query_sakila(query)\n",
    "        \n",
    "        if event == \"sakila4\":\n",
    "            query = \"select * from sakila.actor where last_name like '%Gen%';\"\n",
    "            query_sakila(query)\n",
    "        \n",
    "        if event == \"sakila5\":\n",
    "            query = \"select last_name, count(*) Count from sakila.actor group by last_name order by Count desc;\"\n",
    "            query_sakila(query)\n",
    "         \n",
    "        if event == \"sakila6\":\n",
    "            query = \"select concat(first_name, ' ', last_name) as 'Actor Name' from sakila.actor;\"\n",
    "            query_sakila(query)\n",
    "            \n",
    "        if event==\"Apply\":\n",
    "                      \n",
    "            window.close()\n",
    "\n",
    "        if  event == sg.WIN_CLOSED:\n",
    "            break\n",
    "    window.close()  "
   ]
  },
  {
   "cell_type": "code",
   "execution_count": 6,
   "metadata": {},
   "outputs": [
    {
     "name": "stdout",
     "output_type": "stream",
     "text": [
      "<mysql.connector.connection_cext.CMySQLConnection object at 0x000001AED4F09700>\n",
      "CMySQLCursor: (Nothing executed yet)\n",
      "                     0\n",
      "0     ACADEMY DINOSAUR\n",
      "1       ACE GOLDFINGER\n",
      "2     ADAPTATION HOLES\n",
      "3     AFFAIR PREJUDICE\n",
      "4          AFRICAN EGG\n",
      "..                 ...\n",
      "995     YOUNG LANGUAGE\n",
      "996         YOUTH KICK\n",
      "997       ZHIVAGO CORE\n",
      "998  ZOOLANDER FICTION\n",
      "999          ZORRO ARK\n",
      "\n",
      "[1000 rows x 1 columns]\n",
      "<mysql.connector.connection_cext.CMySQLConnection object at 0x000001AED4F09700>\n",
      "CMySQLCursor: (Nothing executed yet)\n",
      "            0             1\n",
      "0    PENELOPE       GUINESS\n",
      "1        NICK      WAHLBERG\n",
      "2          ED         CHASE\n",
      "3    JENNIFER         DAVIS\n",
      "4      JOHNNY  LOLLOBRIGIDA\n",
      "..        ...           ...\n",
      "195      BELA        WALKEN\n",
      "196     REESE          WEST\n",
      "197      MARY        KEITEL\n",
      "198     JULIA       FAWCETT\n",
      "199     THORA        TEMPLE\n",
      "\n",
      "[200 rows x 2 columns]\n",
      "<mysql.connector.connection_cext.CMySQLConnection object at 0x000001AED4F09700>\n",
      "CMySQLCursor: (Nothing executed yet)\n",
      "                     0   1\n",
      "0     ACADEMY DINOSAUR  10\n",
      "1       ACE GOLDFINGER   4\n",
      "2     ADAPTATION HOLES   5\n",
      "3     AFFAIR PREJUDICE   5\n",
      "4          AFRICAN EGG   5\n",
      "..                 ...  ..\n",
      "992     YOUNG LANGUAGE   5\n",
      "993         YOUTH KICK   5\n",
      "994       ZHIVAGO CORE   6\n",
      "995  ZOOLANDER FICTION   5\n",
      "996          ZORRO ARK   3\n",
      "\n",
      "[997 rows x 2 columns]\n"
     ]
    }
   ],
   "source": [
    "title=\"MYSQL \"\n",
    "sg.theme(\"LightGreen1\")\n",
    "title=\"MYSQL QUERIES\"    \n",
    "layout = [sg.Text(size=(1,1)), sg.Text(\"Click the Query Button\")],[sg.Text(size=(0,1)), sg.Button(\"Sakila Queries\", key=\"sakila\", size=(20,3))] \n",
    "\n",
    "window=sg.Window(title,layout)\n",
    "    \n",
    "while True:\n",
    "    event,value=window.read()   \n",
    "\n",
    "    if event == \"sakila\":\n",
    "        sakila_query()\n",
    "    \n",
    "    if event == sg.WIN_CLOSED:\n",
    "        break\n",
    "        \n",
    "window.close() "
   ]
  },
  {
   "cell_type": "code",
   "execution_count": 7,
   "metadata": {},
   "outputs": [
    {
     "name": "stdout",
     "output_type": "stream",
     "text": [
      "<mysql.connector.connection_cext.CMySQLConnection object at 0x000001AED269B940>\n",
      "CMySQLCursor: (Nothing executed yet)\n",
      "                       0\n",
      "0       PENELOPE GUINESS\n",
      "1          NICK WAHLBERG\n",
      "2               ED CHASE\n",
      "3         JENNIFER DAVIS\n",
      "4    JOHNNY LOLLOBRIGIDA\n",
      "..                   ...\n",
      "195          BELA WALKEN\n",
      "196           REESE WEST\n",
      "197          MARY KEITEL\n",
      "198        JULIA FAWCETT\n",
      "199         THORA TEMPLE\n",
      "\n",
      "[200 rows x 1 columns]\n"
     ]
    }
   ],
   "source": [
    "layout = [ \n",
    "    [sg.Text('Enter the name of the Database and the Query')], \n",
    "    [sg.Text('Database', size =(15, 1)), sg.InputText()], \n",
    "    [sg.Text('Query', size =(15, 1)), sg.InputText()], \n",
    "    [sg.Submit(), sg.Cancel()]] \n",
    "  \n",
    "window = sg.Window('User Input Window', layout) \n",
    "event, values = window.read() \n",
    "window.close() \n",
    "  \n",
    "db = \"use\" + \" \" + values[0] + \";\"\n",
    "query = values[1]    \n",
    "with connector.connect(\n",
    "        host = \"localhost\", \n",
    "        user = \"root\", \n",
    "        password = \"2002020\") as mysqlcon:\n",
    "        print(mysqlcon)\n",
    "        cur = mysqlcon.cursor()\n",
    "        print(cur)\n",
    "        cur.execute(db)\n",
    "        cur.execute(query)\n",
    "        df1 = pd.DataFrame(cur.fetchall())\n",
    "        print(df1)"
   ]
  }
 ],
 "metadata": {
  "kernelspec": {
   "display_name": "Python 3",
   "language": "python",
   "name": "python3"
  },
  "language_info": {
   "codemirror_mode": {
    "name": "ipython",
    "version": 3
   },
   "file_extension": ".py",
   "mimetype": "text/x-python",
   "name": "python",
   "nbconvert_exporter": "python",
   "pygments_lexer": "ipython3",
   "version": "3.8.3"
  }
 },
 "nbformat": 4,
 "nbformat_minor": 4
}
